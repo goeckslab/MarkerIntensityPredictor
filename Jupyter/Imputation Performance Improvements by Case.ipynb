{
 "cells": [
  {
   "cell_type": "code",
   "execution_count": 1,
   "id": "202d9ed9-d2ae-4810-9011-bec2b4241a64",
   "metadata": {},
   "outputs": [],
   "source": [
    "import numpy as np\n",
    "import pandas as pd\n",
    "import matplotlib.pyplot as plt\n",
    "import seaborn as sns\n",
    "\n",
    "case_to_evaluate=\"9_3_1\""
   ]
  },
  {
   "cell_type": "markdown",
   "id": "3aa100fe-64fe-4818-9439-f4ea6f018f81",
   "metadata": {},
   "source": [
    "# Performance comparison of Imputation per case"
   ]
  },
  {
   "cell_type": "markdown",
   "id": "6d49c84a-2aff-4e0f-a1e9-927c1722679f",
   "metadata": {},
   "source": [
    "## Distance based vs Neighbor based KNN Imputation Comparison"
   ]
  },
  {
   "cell_type": "code",
   "execution_count": 2,
   "id": "2b9de780-9f6f-491f-993e-f8e2e79d579d",
   "metadata": {},
   "outputs": [],
   "source": [
    "distance_based_r2_scores = pd.read_csv(f\"data/{case_to_evaluate}/distance_based/combined_r2_scores.csv\")\n",
    "neighbor_based_r2_scores = pd.read_csv(f\"data/{case_to_evaluate}/neighbor_based/combined_r2_scores.csv\")\n",
    "features_to_impute = pd.read_csv(f\"data/{case_to_evaluate}/distance_based/features_to_impute.csv\")\n",
    "\n",
    "features_to_impute = features_to_impute[\"0\"].to_list()\n",
    "if \"X_centroid\" in features_to_impute:\n",
    "    features_to_impute.remove(\"X_centroid\")\n",
    "\n",
    "if \"Y_centroid\" in features_to_impute:\n",
    "    features_to_impute.remove(\"Y_centroid\")\n",
    "\n",
    "distance_based_r2_scores.rename(columns={\"Radius\": \"Origin\"}, inplace=True)"
   ]
  },
  {
   "cell_type": "code",
   "execution_count": 3,
   "id": "8e1da5b2-5f85-4c50-81cd-aa81a207bd94",
   "metadata": {},
   "outputs": [
    {
     "data": {
      "text/html": [
       "<div>\n",
       "<style scoped>\n",
       "    .dataframe tbody tr th:only-of-type {\n",
       "        vertical-align: middle;\n",
       "    }\n",
       "\n",
       "    .dataframe tbody tr th {\n",
       "        vertical-align: top;\n",
       "    }\n",
       "\n",
       "    .dataframe thead th {\n",
       "        text-align: right;\n",
       "    }\n",
       "</style>\n",
       "<table border=\"1\" class=\"dataframe\">\n",
       "  <thead>\n",
       "    <tr style=\"text-align: right;\">\n",
       "      <th></th>\n",
       "      <th>Feature</th>\n",
       "      <th>Score</th>\n",
       "      <th>Origin</th>\n",
       "    </tr>\n",
       "  </thead>\n",
       "  <tbody>\n",
       "    <tr>\n",
       "      <th>0</th>\n",
       "      <td>pERK</td>\n",
       "      <td>0.0</td>\n",
       "      <td>10</td>\n",
       "    </tr>\n",
       "    <tr>\n",
       "      <th>1</th>\n",
       "      <td>Rad51</td>\n",
       "      <td>0.0</td>\n",
       "      <td>10</td>\n",
       "    </tr>\n",
       "    <tr>\n",
       "      <th>2</th>\n",
       "      <td>CCND1</td>\n",
       "      <td>0.0</td>\n",
       "      <td>10</td>\n",
       "    </tr>\n",
       "    <tr>\n",
       "      <th>3</th>\n",
       "      <td>Vimentin</td>\n",
       "      <td>0.0</td>\n",
       "      <td>10</td>\n",
       "    </tr>\n",
       "    <tr>\n",
       "      <th>4</th>\n",
       "      <td>aSMA</td>\n",
       "      <td>0.0</td>\n",
       "      <td>10</td>\n",
       "    </tr>\n",
       "    <tr>\n",
       "      <th>...</th>\n",
       "      <td>...</td>\n",
       "      <td>...</td>\n",
       "      <td>...</td>\n",
       "    </tr>\n",
       "    <tr>\n",
       "      <th>151</th>\n",
       "      <td>MajorAxisLength</td>\n",
       "      <td>0.0</td>\n",
       "      <td>100</td>\n",
       "    </tr>\n",
       "    <tr>\n",
       "      <th>152</th>\n",
       "      <td>MinorAxisLength</td>\n",
       "      <td>0.0</td>\n",
       "      <td>100</td>\n",
       "    </tr>\n",
       "    <tr>\n",
       "      <th>153</th>\n",
       "      <td>Solidity</td>\n",
       "      <td>0.0</td>\n",
       "      <td>100</td>\n",
       "    </tr>\n",
       "    <tr>\n",
       "      <th>154</th>\n",
       "      <td>Extent</td>\n",
       "      <td>0.0</td>\n",
       "      <td>100</td>\n",
       "    </tr>\n",
       "    <tr>\n",
       "      <th>155</th>\n",
       "      <td>Eccentricity</td>\n",
       "      <td>0.0</td>\n",
       "      <td>100</td>\n",
       "    </tr>\n",
       "  </tbody>\n",
       "</table>\n",
       "<p>156 rows × 3 columns</p>\n",
       "</div>"
      ],
      "text/plain": [
       "             Feature  Score  Origin\n",
       "0               pERK    0.0      10\n",
       "1              Rad51    0.0      10\n",
       "2              CCND1    0.0      10\n",
       "3           Vimentin    0.0      10\n",
       "4               aSMA    0.0      10\n",
       "..               ...    ...     ...\n",
       "151  MajorAxisLength    0.0     100\n",
       "152  MinorAxisLength    0.0     100\n",
       "153         Solidity    0.0     100\n",
       "154           Extent    0.0     100\n",
       "155     Eccentricity    0.0     100\n",
       "\n",
       "[156 rows x 3 columns]"
      ]
     },
     "execution_count": 3,
     "metadata": {},
     "output_type": "execute_result"
    }
   ],
   "source": [
    "distance_based_r2_scores"
   ]
  },
  {
   "cell_type": "code",
   "execution_count": 4,
   "id": "d38f3ad4-4e67-45ee-a811-857f7b6cee80",
   "metadata": {},
   "outputs": [
    {
     "data": {
      "text/html": [
       "<div>\n",
       "<style scoped>\n",
       "    .dataframe tbody tr th:only-of-type {\n",
       "        vertical-align: middle;\n",
       "    }\n",
       "\n",
       "    .dataframe tbody tr th {\n",
       "        vertical-align: top;\n",
       "    }\n",
       "\n",
       "    .dataframe thead th {\n",
       "        text-align: right;\n",
       "    }\n",
       "</style>\n",
       "<table border=\"1\" class=\"dataframe\">\n",
       "  <thead>\n",
       "    <tr style=\"text-align: right;\">\n",
       "      <th></th>\n",
       "      <th>Feature</th>\n",
       "      <th>Score</th>\n",
       "      <th>Origin</th>\n",
       "    </tr>\n",
       "  </thead>\n",
       "  <tbody>\n",
       "    <tr>\n",
       "      <th>0</th>\n",
       "      <td>pERK</td>\n",
       "      <td>0.141219</td>\n",
       "      <td>no_spatial 2</td>\n",
       "    </tr>\n",
       "    <tr>\n",
       "      <th>1</th>\n",
       "      <td>Rad51</td>\n",
       "      <td>0.044714</td>\n",
       "      <td>no_spatial 2</td>\n",
       "    </tr>\n",
       "    <tr>\n",
       "      <th>2</th>\n",
       "      <td>CCND1</td>\n",
       "      <td>0.245797</td>\n",
       "      <td>no_spatial 2</td>\n",
       "    </tr>\n",
       "    <tr>\n",
       "      <th>3</th>\n",
       "      <td>Vimentin</td>\n",
       "      <td>0.343817</td>\n",
       "      <td>no_spatial 2</td>\n",
       "    </tr>\n",
       "    <tr>\n",
       "      <th>4</th>\n",
       "      <td>aSMA</td>\n",
       "      <td>-0.060724</td>\n",
       "      <td>no_spatial 2</td>\n",
       "    </tr>\n",
       "    <tr>\n",
       "      <th>...</th>\n",
       "      <td>...</td>\n",
       "      <td>...</td>\n",
       "      <td>...</td>\n",
       "    </tr>\n",
       "    <tr>\n",
       "      <th>255</th>\n",
       "      <td>MajorAxisLength</td>\n",
       "      <td>0.738931</td>\n",
       "      <td>spatial 6</td>\n",
       "    </tr>\n",
       "    <tr>\n",
       "      <th>256</th>\n",
       "      <td>MinorAxisLength</td>\n",
       "      <td>0.727838</td>\n",
       "      <td>spatial 6</td>\n",
       "    </tr>\n",
       "    <tr>\n",
       "      <th>257</th>\n",
       "      <td>Solidity</td>\n",
       "      <td>0.332758</td>\n",
       "      <td>spatial 6</td>\n",
       "    </tr>\n",
       "    <tr>\n",
       "      <th>258</th>\n",
       "      <td>Extent</td>\n",
       "      <td>0.319662</td>\n",
       "      <td>spatial 6</td>\n",
       "    </tr>\n",
       "    <tr>\n",
       "      <th>259</th>\n",
       "      <td>Eccentricity</td>\n",
       "      <td>0.385980</td>\n",
       "      <td>spatial 6</td>\n",
       "    </tr>\n",
       "  </tbody>\n",
       "</table>\n",
       "<p>260 rows × 3 columns</p>\n",
       "</div>"
      ],
      "text/plain": [
       "             Feature     Score        Origin\n",
       "0               pERK  0.141219  no_spatial 2\n",
       "1              Rad51  0.044714  no_spatial 2\n",
       "2              CCND1  0.245797  no_spatial 2\n",
       "3           Vimentin  0.343817  no_spatial 2\n",
       "4               aSMA -0.060724  no_spatial 2\n",
       "..               ...       ...           ...\n",
       "255  MajorAxisLength  0.738931     spatial 6\n",
       "256  MinorAxisLength  0.727838     spatial 6\n",
       "257         Solidity  0.332758     spatial 6\n",
       "258           Extent  0.319662     spatial 6\n",
       "259     Eccentricity  0.385980     spatial 6\n",
       "\n",
       "[260 rows x 3 columns]"
      ]
     },
     "execution_count": 4,
     "metadata": {},
     "output_type": "execute_result"
    }
   ],
   "source": [
    "neighbor_based_r2_scores"
   ]
  },
  {
   "cell_type": "code",
   "execution_count": 5,
   "id": "152658c9-e282-4650-b2c7-74557474ccbc",
   "metadata": {},
   "outputs": [
    {
     "data": {
      "text/html": [
       "<div>\n",
       "<style scoped>\n",
       "    .dataframe tbody tr th:only-of-type {\n",
       "        vertical-align: middle;\n",
       "    }\n",
       "\n",
       "    .dataframe tbody tr th {\n",
       "        vertical-align: top;\n",
       "    }\n",
       "\n",
       "    .dataframe thead th {\n",
       "        text-align: right;\n",
       "    }\n",
       "</style>\n",
       "<table border=\"1\" class=\"dataframe\">\n",
       "  <thead>\n",
       "    <tr style=\"text-align: right;\">\n",
       "      <th></th>\n",
       "      <th>Feature</th>\n",
       "      <th>Score</th>\n",
       "      <th>Origin</th>\n",
       "    </tr>\n",
       "  </thead>\n",
       "  <tbody>\n",
       "    <tr>\n",
       "      <th>0</th>\n",
       "      <td>pERK</td>\n",
       "      <td>0.000000</td>\n",
       "      <td>10</td>\n",
       "    </tr>\n",
       "    <tr>\n",
       "      <th>1</th>\n",
       "      <td>Rad51</td>\n",
       "      <td>0.000000</td>\n",
       "      <td>10</td>\n",
       "    </tr>\n",
       "    <tr>\n",
       "      <th>2</th>\n",
       "      <td>CCND1</td>\n",
       "      <td>0.000000</td>\n",
       "      <td>10</td>\n",
       "    </tr>\n",
       "    <tr>\n",
       "      <th>3</th>\n",
       "      <td>Vimentin</td>\n",
       "      <td>0.000000</td>\n",
       "      <td>10</td>\n",
       "    </tr>\n",
       "    <tr>\n",
       "      <th>4</th>\n",
       "      <td>aSMA</td>\n",
       "      <td>0.000000</td>\n",
       "      <td>10</td>\n",
       "    </tr>\n",
       "    <tr>\n",
       "      <th>...</th>\n",
       "      <td>...</td>\n",
       "      <td>...</td>\n",
       "      <td>...</td>\n",
       "    </tr>\n",
       "    <tr>\n",
       "      <th>255</th>\n",
       "      <td>MajorAxisLength</td>\n",
       "      <td>0.738931</td>\n",
       "      <td>spatial 6</td>\n",
       "    </tr>\n",
       "    <tr>\n",
       "      <th>256</th>\n",
       "      <td>MinorAxisLength</td>\n",
       "      <td>0.727838</td>\n",
       "      <td>spatial 6</td>\n",
       "    </tr>\n",
       "    <tr>\n",
       "      <th>257</th>\n",
       "      <td>Solidity</td>\n",
       "      <td>0.332758</td>\n",
       "      <td>spatial 6</td>\n",
       "    </tr>\n",
       "    <tr>\n",
       "      <th>258</th>\n",
       "      <td>Extent</td>\n",
       "      <td>0.319662</td>\n",
       "      <td>spatial 6</td>\n",
       "    </tr>\n",
       "    <tr>\n",
       "      <th>259</th>\n",
       "      <td>Eccentricity</td>\n",
       "      <td>0.385980</td>\n",
       "      <td>spatial 6</td>\n",
       "    </tr>\n",
       "  </tbody>\n",
       "</table>\n",
       "<p>416 rows × 3 columns</p>\n",
       "</div>"
      ],
      "text/plain": [
       "             Feature     Score     Origin\n",
       "0               pERK  0.000000         10\n",
       "1              Rad51  0.000000         10\n",
       "2              CCND1  0.000000         10\n",
       "3           Vimentin  0.000000         10\n",
       "4               aSMA  0.000000         10\n",
       "..               ...       ...        ...\n",
       "255  MajorAxisLength  0.738931  spatial 6\n",
       "256  MinorAxisLength  0.727838  spatial 6\n",
       "257         Solidity  0.332758  spatial 6\n",
       "258           Extent  0.319662  spatial 6\n",
       "259     Eccentricity  0.385980  spatial 6\n",
       "\n",
       "[416 rows x 3 columns]"
      ]
     },
     "execution_count": 5,
     "metadata": {},
     "output_type": "execute_result"
    }
   ],
   "source": [
    "combined_r2_scores = pd.concat([distance_based_r2_scores,neighbor_based_r2_scores])\n",
    "combined_r2_scores"
   ]
  },
  {
   "cell_type": "markdown",
   "id": "8d6f5628-54d4-437c-80db-daf1bf5e9ec4",
   "metadata": {},
   "source": [
    "# Plot r2 scores"
   ]
  },
  {
   "cell_type": "code",
   "execution_count": 6,
   "id": "554d5982-0a88-4b3b-9043-0db1659cf846",
   "metadata": {},
   "outputs": [
    {
     "data": {
      "text/html": [
       "<div>\n",
       "<style scoped>\n",
       "    .dataframe tbody tr th:only-of-type {\n",
       "        vertical-align: middle;\n",
       "    }\n",
       "\n",
       "    .dataframe tbody tr th {\n",
       "        vertical-align: top;\n",
       "    }\n",
       "\n",
       "    .dataframe thead th {\n",
       "        text-align: right;\n",
       "    }\n",
       "</style>\n",
       "<table border=\"1\" class=\"dataframe\">\n",
       "  <thead>\n",
       "    <tr style=\"text-align: right;\">\n",
       "      <th></th>\n",
       "      <th>Feature</th>\n",
       "      <th>Score</th>\n",
       "      <th>Origin</th>\n",
       "    </tr>\n",
       "  </thead>\n",
       "  <tbody>\n",
       "    <tr>\n",
       "      <th>234</th>\n",
       "      <td>pERK</td>\n",
       "      <td>0.337674</td>\n",
       "      <td>spatial 6</td>\n",
       "    </tr>\n",
       "    <tr>\n",
       "      <th>235</th>\n",
       "      <td>Rad51</td>\n",
       "      <td>0.338546</td>\n",
       "      <td>spatial 6</td>\n",
       "    </tr>\n",
       "    <tr>\n",
       "      <th>236</th>\n",
       "      <td>CCND1</td>\n",
       "      <td>0.333853</td>\n",
       "      <td>spatial 6</td>\n",
       "    </tr>\n",
       "    <tr>\n",
       "      <th>237</th>\n",
       "      <td>Vimentin</td>\n",
       "      <td>0.433736</td>\n",
       "      <td>spatial 6</td>\n",
       "    </tr>\n",
       "    <tr>\n",
       "      <th>238</th>\n",
       "      <td>aSMA</td>\n",
       "      <td>0.057644</td>\n",
       "      <td>spatial 6</td>\n",
       "    </tr>\n",
       "    <tr>\n",
       "      <th>...</th>\n",
       "      <td>...</td>\n",
       "      <td>...</td>\n",
       "      <td>...</td>\n",
       "    </tr>\n",
       "    <tr>\n",
       "      <th>47</th>\n",
       "      <td>MajorAxisLength</td>\n",
       "      <td>0.000000</td>\n",
       "      <td>20</td>\n",
       "    </tr>\n",
       "    <tr>\n",
       "      <th>48</th>\n",
       "      <td>MinorAxisLength</td>\n",
       "      <td>0.000000</td>\n",
       "      <td>20</td>\n",
       "    </tr>\n",
       "    <tr>\n",
       "      <th>49</th>\n",
       "      <td>Solidity</td>\n",
       "      <td>0.000000</td>\n",
       "      <td>20</td>\n",
       "    </tr>\n",
       "    <tr>\n",
       "      <th>50</th>\n",
       "      <td>Extent</td>\n",
       "      <td>0.000000</td>\n",
       "      <td>20</td>\n",
       "    </tr>\n",
       "    <tr>\n",
       "      <th>51</th>\n",
       "      <td>Eccentricity</td>\n",
       "      <td>0.000000</td>\n",
       "      <td>20</td>\n",
       "    </tr>\n",
       "  </tbody>\n",
       "</table>\n",
       "<p>104 rows × 3 columns</p>\n",
       "</div>"
      ],
      "text/plain": [
       "             Feature     Score     Origin\n",
       "234             pERK  0.337674  spatial 6\n",
       "235            Rad51  0.338546  spatial 6\n",
       "236            CCND1  0.333853  spatial 6\n",
       "237         Vimentin  0.433736  spatial 6\n",
       "238             aSMA  0.057644  spatial 6\n",
       "..               ...       ...        ...\n",
       "47   MajorAxisLength  0.000000         20\n",
       "48   MinorAxisLength  0.000000         20\n",
       "49          Solidity  0.000000         20\n",
       "50            Extent  0.000000         20\n",
       "51      Eccentricity  0.000000         20\n",
       "\n",
       "[104 rows x 3 columns]"
      ]
     },
     "execution_count": 6,
     "metadata": {},
     "output_type": "execute_result"
    }
   ],
   "source": [
    "best_spatial_scores = combined_r2_scores[combined_r2_scores[\"Origin\"] == \"spatial 6\"]\n",
    "best_no_spatial_scores = combined_r2_scores[combined_r2_scores[\"Origin\"] == \"no_spatial 6\"]\n",
    "best_30_radius_scores = combined_r2_scores[combined_r2_scores[\"Origin\"] == 30]\n",
    "best_20_radius_scores = combined_r2_scores[combined_r2_scores[\"Origin\"] == 20]\n",
    "\n",
    "best_r2_scores = pd.concat([best_spatial_scores,best_no_spatial_scores,best_30_radius_scores, best_20_radius_scores])\n",
    "best_r2_scores"
   ]
  },
  {
   "cell_type": "code",
   "execution_count": 7,
   "id": "dea77376-1407-43af-a341-179660f4dc8b",
   "metadata": {},
   "outputs": [
    {
     "data": {
      "image/png": "[encoded data removed]",
      "text/plain": [
       "<Figure size 2160x504 with 1 Axes>"
      ]
     },
     "metadata": {
      "needs_background": "light"
     },
     "output_type": "display_data"
    }
   ],
   "source": [
    "fig = plt.figure()\n",
    "sns.barplot(x=\"Feature\", y=\"Score\",hue=\"Origin\", data=best_r2_scores)\n",
    "for ax in fig.axes:\n",
    "    for tick in ax.get_xticklabels():\n",
    "        tick.set_rotation(45)\n",
    "plt.ylim(0)\n",
    "fig.set_size_inches(30,7)\n",
    "plt.show()"
   ]
  },
  {
   "cell_type": "markdown",
   "id": "9fa098e6-e0f7-4e0e-ba56-73455a2a7060",
   "metadata": {},
   "source": [
    "## Plot only improved marker\n",
    "\n",
    "Select features which performed better in a feature engineered setting"
   ]
  },
  {
   "cell_type": "code",
   "execution_count": 8,
   "id": "71ba3b5a-ffed-4e34-ba7e-283abb5a4061",
   "metadata": {
    "tags": []
   },
   "outputs": [
    {
     "ename": "TypeError",
     "evalue": "'NoneType' object is not subscriptable",
     "output_type": "error",
     "traceback": [
      "\u001b[0;31m---------------------------------------------------------------------------\u001b[0m",
      "\u001b[0;31mTypeError\u001b[0m                                 Traceback (most recent call last)",
      "Input \u001b[0;32mIn [8]\u001b[0m, in \u001b[0;36m<cell line: 3>\u001b[0;34m()\u001b[0m\n\u001b[1;32m      9\u001b[0m             max_score \u001b[38;5;241m=\u001b[39m feature_score \n\u001b[1;32m     10\u001b[0m             max_score_data \u001b[38;5;241m=\u001b[39m best_r2_scores\u001b[38;5;241m.\u001b[39mloc[(best_r2_scores[\u001b[38;5;124m\"\u001b[39m\u001b[38;5;124mOrigin\u001b[39m\u001b[38;5;124m\"\u001b[39m] \u001b[38;5;241m==\u001b[39m origin) \u001b[38;5;241m&\u001b[39m (best_r2_scores[\u001b[38;5;124m\"\u001b[39m\u001b[38;5;124mFeature\u001b[39m\u001b[38;5;124m\"\u001b[39m] \u001b[38;5;241m==\u001b[39m feature)]\n\u001b[0;32m---> 12\u001b[0m     \u001b[38;5;28;01mif\u001b[39;00m \u001b[43mmax_score_data\u001b[49m\u001b[43m[\u001b[49m\u001b[38;5;124;43m\"\u001b[39;49m\u001b[38;5;124;43mOrigin\u001b[39;49m\u001b[38;5;124;43m\"\u001b[39;49m\u001b[43m]\u001b[49m\u001b[38;5;241m.\u001b[39mvalues[\u001b[38;5;241m0\u001b[39m] \u001b[38;5;241m==\u001b[39m \u001b[38;5;241m30\u001b[39m \u001b[38;5;129;01mor\u001b[39;00m max_score_data[\u001b[38;5;124m\"\u001b[39m\u001b[38;5;124mOrigin\u001b[39m\u001b[38;5;124m\"\u001b[39m]\u001b[38;5;241m.\u001b[39mvalues[\u001b[38;5;241m0\u001b[39m] \u001b[38;5;241m==\u001b[39m \u001b[38;5;241m20\u001b[39m:\n\u001b[1;32m     13\u001b[0m         features_of_interest\u001b[38;5;241m.\u001b[39mappend({\u001b[38;5;124m\"\u001b[39m\u001b[38;5;124mFeature\u001b[39m\u001b[38;5;124m\"\u001b[39m: max_score_data[\u001b[38;5;124m\"\u001b[39m\u001b[38;5;124mFeature\u001b[39m\u001b[38;5;124m\"\u001b[39m]\u001b[38;5;241m.\u001b[39mvalues[\u001b[38;5;241m0\u001b[39m], \u001b[38;5;124m\"\u001b[39m\u001b[38;5;124mScore\u001b[39m\u001b[38;5;124m\"\u001b[39m: max_score_data[\u001b[38;5;124m\"\u001b[39m\u001b[38;5;124mScore\u001b[39m\u001b[38;5;124m\"\u001b[39m]\u001b[38;5;241m.\u001b[39mvalues[\u001b[38;5;241m0\u001b[39m], \u001b[38;5;124m\"\u001b[39m\u001b[38;5;124mOrigin\u001b[39m\u001b[38;5;124m\"\u001b[39m: max_score_data[\u001b[38;5;124m\"\u001b[39m\u001b[38;5;124mOrigin\u001b[39m\u001b[38;5;124m\"\u001b[39m]\u001b[38;5;241m.\u001b[39mvalues[\u001b[38;5;241m0\u001b[39m]})\n\u001b[1;32m     15\u001b[0m features_of_interest \u001b[38;5;241m=\u001b[39m pd\u001b[38;5;241m.\u001b[39mDataFrame()\u001b[38;5;241m.\u001b[39mfrom_records(features_of_interest)\n",
      "\u001b[0;31mTypeError\u001b[0m: 'NoneType' object is not subscriptable"
     ]
    }
   ],
   "source": [
    "features_of_interest = []\n",
    "\n",
    "for feature in best_r2_scores[\"Feature\"].unique():\n",
    "    max_score = 0\n",
    "    max_score_data = None\n",
    "    for origin in best_r2_scores[\"Origin\"].unique():\n",
    "        feature_score = float(best_r2_scores.loc[(best_r2_scores[\"Origin\"] == origin) & (best_r2_scores[\"Feature\"] == feature)][\"Score\"].values)\n",
    "        if max_score < feature_score:\n",
    "            max_score = feature_score \n",
    "            max_score_data = best_r2_scores.loc[(best_r2_scores[\"Origin\"] == origin) & (best_r2_scores[\"Feature\"] == feature)]\n",
    "                                            \n",
    "    if max_score_data[\"Origin\"].values[0] == 30 or max_score_data[\"Origin\"].values[0] == 20:\n",
    "        features_of_interest.append({\"Feature\": max_score_data[\"Feature\"].values[0], \"Score\": max_score_data[\"Score\"].values[0], \"Origin\": max_score_data[\"Origin\"].values[0]})\n",
    "        \n",
    "features_of_interest = pd.DataFrame().from_records(features_of_interest)\n",
    "features_of_interest"
   ]
  },
  {
   "cell_type": "code",
   "execution_count": null,
   "id": "e31284f0-caa4-4f08-9c3c-7380027e9dda",
   "metadata": {},
   "outputs": [],
   "source": [
    "features_of_interest.to_csv(f\"data/{case_to_evaluate}/distance_based/fe_improved_features.csv\", index=False)"
   ]
  },
  {
   "cell_type": "code",
   "execution_count": null,
   "id": "a97e8b2c-a6ae-451d-9f8f-c852d79d930d",
   "metadata": {},
   "outputs": [],
   "source": [
    "print(f\"{ len(features_of_interest) / len(features_to_impute) * 100 } % of the available features improved by using distance based KNN imputation.\")"
   ]
  },
  {
   "cell_type": "markdown",
   "id": "1d06fc93-c6d5-4d76-ba1e-015d7f5709a6",
   "metadata": {},
   "source": [
    "## Select only best performing features"
   ]
  },
  {
   "cell_type": "code",
   "execution_count": null,
   "id": "d43be9ef-3ee2-4e95-bc1f-6226885b3487",
   "metadata": {},
   "outputs": [],
   "source": [
    "best_performing_features =best_r2_scores[pd.DataFrame(best_r2_scores[\"Feature\"].tolist()).isin(features_of_interest[\"Feature\"].tolist()).any(1).values]"
   ]
  },
  {
   "cell_type": "code",
   "execution_count": null,
   "id": "951e000f-7351-4ffa-b2c2-ff5967be4c2d",
   "metadata": {},
   "outputs": [],
   "source": [
    "best_performing_features.to_csv(f\"data/{case_to_evaluate}/distance_based/fe_best_performing_r2_scores.csv\", index=False)"
   ]
  },
  {
   "cell_type": "code",
   "execution_count": null,
   "id": "fc28abbf-c80a-4d69-9def-1017863443fb",
   "metadata": {},
   "outputs": [],
   "source": [
    "fig = plt.figure()\n",
    "sns.barplot(x=\"Feature\", y=\"Score\",hue=\"Origin\", data=best_performing_features)\n",
    "for ax in fig.axes:\n",
    "    for tick in ax.get_xticklabels():\n",
    "        tick.set_rotation(45)\n",
    "fig.set_size_inches(15,7)\n",
    "plt.ylim(0)\n",
    "plt.show()"
   ]
  },
  {
   "cell_type": "code",
   "execution_count": null,
   "id": "c2130714-7ab1-44ce-8d55-5fb84baf3da2",
   "metadata": {},
   "outputs": [],
   "source": []
  },
  {
   "cell_type": "markdown",
   "id": "20b0d169-f6a1-4061-b443-9b1a2cca969d",
   "metadata": {},
   "source": [
    "## Distance Based vs VAE performance"
   ]
  },
  {
   "cell_type": "code",
   "execution_count": null,
   "id": "6166b8d5-f19b-4829-8e00-00d780456af2",
   "metadata": {},
   "outputs": [],
   "source": [
    "vae_r2_scores = pd.read_csv(f\"data/{case_to_evaluate}/vae_normal/combined_r2_scores.csv\")\n",
    "vae_r2_scores.rename(columns={\"Radius\": \"Origin\"}, inplace=True)\n",
    "vae_r2_scores"
   ]
  },
  {
   "cell_type": "markdown",
   "id": "2a210693-532e-4fbe-a05d-8e718bf81170",
   "metadata": {},
   "source": [
    "### Show overview over r2 scores between VAE and FE KNN"
   ]
  },
  {
   "cell_type": "code",
   "execution_count": null,
   "id": "23a9fd47-a8f4-49d8-9af6-6af9bdcd8b8c",
   "metadata": {},
   "outputs": [],
   "source": [
    "fig, (ax1, ax2, ax3, ax4) = plt.subplots(4,1)\n",
    "fig.set_size_inches(30,15)\n",
    "\n",
    "sns.barplot(x=\"Feature\", y=\"Score\",hue=\"Origin\", data=vae_r2_scores, ax=ax1)\n",
    "sns.barplot(x=\"Feature\", y=\"Score\",hue=\"Origin\", data=distance_based_r2_scores, ax=ax2)\n",
    "sns.barplot(x=\"Feature\", y=\"Score\",hue=\"Origin\", data=neighbor_based_r2_scores, ax=ax3)\n",
    "\n",
    "ax1.set_title(\"VAE R2 scores\")\n",
    "ax2.set_title(\"Feature Engineered KNN\")\n",
    "ax3.set_title(\"Spatial & Non Spatial KNN\")\n",
    "plt.title(\"Generic overview of r2 scores\")\n",
    "\n",
    "for ax in fig.axes:\n",
    "    for tick in ax.get_xticklabels():\n",
    "        tick.set_rotation(45)\n",
    "# set the spacing between subplots\n",
    "fig.tight_layout()\n",
    "plt.savefig(f\"data/{case_to_evaluate}/vae_normal/knn_fe_knn_vae_score_overview.png\",facecolor='w')"
   ]
  },
  {
   "cell_type": "markdown",
   "id": "24501e2b-0f53-4317-b324-ab1e5cc66f34",
   "metadata": {},
   "source": [
    "### Select best performing features\n",
    "\n",
    "Selects only features which perform better compared to FE KNN imputation"
   ]
  },
  {
   "cell_type": "code",
   "execution_count": null,
   "id": "9a1c8d77-6b97-4f5d-a75c-59252651f572",
   "metadata": {},
   "outputs": [],
   "source": [
    "def find_best_performing_features_per_radius(radius: int, vae_r2_scores: pd.DataFrame, distance_based_r2_scores: pd.DataFrame):\n",
    "    improved_features_by_vae = []\n",
    "    for feature in vae_r2_scores[\"Feature\"].unique():\n",
    "    \n",
    "        vae_score = float(vae_r2_scores.loc[(vae_r2_scores[\"Origin\"] == radius) & (vae_r2_scores[\"Feature\"] == feature)][\"Score\"].values)\n",
    "        distance_score = float(distance_based_r2_scores.loc[(distance_based_r2_scores[\"Origin\"] == radius) & (distance_based_r2_scores[\"Feature\"] == feature)][\"Score\"].values)\n",
    "        \n",
    "        if vae_score > distance_score:\n",
    "            max_score_data = vae_r2_scores.loc[(vae_r2_scores[\"Origin\"] == radius) & (vae_r2_scores[\"Feature\"] == feature)]\n",
    "            improved_features_by_vae.append({\"Feature\": max_score_data[\"Feature\"].values[0], \"Score\": max_score_data[\"Score\"].values[0], \"Origin\": max_score_data[\"Origin\"].values[0]})\n",
    "\n",
    "    \n",
    "    return pd.DataFrame().from_records(improved_features_by_vae)\n",
    "\n"
   ]
  },
  {
   "cell_type": "code",
   "execution_count": null,
   "id": "26d5b244-21d3-4604-9728-f93035e34b34",
   "metadata": {},
   "outputs": [],
   "source": [
    "vae_improved_features = find_best_performing_features_per_radius(10, vae_r2_scores, distance_based_r2_scores)\n",
    "# vae_improved_features.rename(columns={\"Origin\": \"Radius\"}, inplace=True)\n",
    "vae_improved_features"
   ]
  },
  {
   "cell_type": "markdown",
   "id": "20b1a696-11a0-4ee0-8a41-0e9fc24c2e99",
   "metadata": {},
   "source": [
    "### Combine vae with fe knn scores"
   ]
  },
  {
   "cell_type": "code",
   "execution_count": null,
   "id": "2fcda11b-515d-4a99-a629-130a2b730e29",
   "metadata": {},
   "outputs": [],
   "source": [
    "\n",
    "vae_r2_scores[\"Method\"] = \"VAE\"\n",
    "distance_based_r2_scores[\"Method\"] = \"FE KNN\"\n",
    "vae_x_fe_knn_scores= pd.concat([vae_r2_scores,distance_based_r2_scores])\n",
    "vae_x_fe_knn_scores.reset_index(drop=True, inplace=True)\n",
    "vae_x_fe_knn_scores"
   ]
  },
  {
   "cell_type": "code",
   "execution_count": null,
   "id": "96cf88bb-7952-4325-9680-fa3d1d9541dc",
   "metadata": {},
   "outputs": [],
   "source": [
    "# Create mean scores across all markers\n",
    "mean_scores_per_origin_data = []\n",
    "for origin in vae_x_fe_knn_scores[\"Origin\"].unique():\n",
    "    data = vae_x_fe_knn_scores[vae_x_fe_knn_scores[\"Origin\"] == origin]\n",
    "    mean_scores_per_origin_data.append(\n",
    "        {\n",
    "            \"Score\": data[data[\"Method\"] == \"VAE\"][\"Score\"].mean(),\n",
    "            \"Method\": \"VAE\",\n",
    "            \"Origin\": origin\n",
    "        }\n",
    "    )\n",
    "    \n",
    "    mean_scores_per_origin_data.append(\n",
    "        {\n",
    "            \"Score\": data[data[\"Method\"] == \"FE KNN\"][\"Score\"].mean(),\n",
    "            \"Method\": \"FE KNN\",\n",
    "            \"Origin\": origin\n",
    "        }\n",
    "    )\n",
    "    \n",
    "mean_scores_per_origin = pd.DataFrame().from_records(mean_scores_per_origin_data)\n",
    "mean_scores_per_origin"
   ]
  },
  {
   "cell_type": "code",
   "execution_count": null,
   "id": "ddafddc3-ab10-4cc7-8611-3b81c07976fd",
   "metadata": {},
   "outputs": [],
   "source": [
    "fig = plt.figure(figsize=(7, 7))\n",
    "ax = sns.lineplot(data=vae_x_fe_knn_scores, x=\"Origin\", y=\"Score\", hue=\"Method\")\n",
    "#ax.fill_between(vae_x_fe_knn_scores.index, vae_x_fe_knn_scores.lower, vae_x_fe_knn_scores.upper, alpha=0.2)\n",
    "plt.xlabel(\"Radius\")\n",
    "\n",
    "plt.title(\"Mean R2 score with increasing radius\")\n",
    "fig.tight_layout()\n",
    "plt.savefig(f\"data/{case_to_evaluate}/vae_normal/vae_knn_mean_performance_comparison.png\",facecolor='w')"
   ]
  },
  {
   "cell_type": "code",
   "execution_count": null,
   "id": "fcd3c596-71c1-4483-9ab6-89f57aa0dafd",
   "metadata": {},
   "outputs": [],
   "source": [
    "fig, axs = plt.subplots(6, 5, figsize=(16, 30), dpi=300)\n",
    "\n",
    "row = 0\n",
    "col = 0\n",
    "\n",
    "for feature in vae_x_fe_knn_scores[\"Feature\"].unique():\n",
    "    sns.lineplot(data=vae_x_fe_knn_scores[vae_x_fe_knn_scores[\"Feature\"] == feature], x=\"Origin\", y=\"Score\", hue=\"Method\", ax=axs[col, row])\n",
    "    axs[col, row].set_title(feature)\n",
    "    axs[col, row].get_legend().remove()\n",
    "    axs[col, row].set_ylim(0, 1)\n",
    "    \n",
    "    row +=1\n",
    "    \n",
    "    if row == 5:\n",
    "        row = 0\n",
    "        col += 1\n",
    "\n",
    "        \n",
    "axs[0][0].legend()\n",
    "\n",
    "plt.xlabel(\"Radius\")\n",
    "plt.title(\"R2 Score per feature\")\n",
    "fig.tight_layout()\n",
    "plt.savefig(f\"data/{case_to_evaluate}/vae_normal/feature_performance.png\",facecolor='w')\n",
    "\n"
   ]
  },
  {
   "cell_type": "code",
   "execution_count": null,
   "id": "c8d1714c-d6dd-4863-9784-3c31e7b9a026",
   "metadata": {},
   "outputs": [],
   "source": []
  }
 ],
 "metadata": {
  "kernelspec": {
   "display_name": "Python 3 (ipykernel)",
   "language": "python",
   "name": "python3"
  },
  "language_info": {
   "codemirror_mode": {
    "name": "ipython",
    "version": 3
   },
   "file_extension": ".py",
   "mimetype": "text/x-python",
   "name": "python",
   "nbconvert_exporter": "python",
   "pygments_lexer": "ipython3",
   "version": "3.9.4"
  }
 },
 "nbformat": 4,
 "nbformat_minor": 5
}
