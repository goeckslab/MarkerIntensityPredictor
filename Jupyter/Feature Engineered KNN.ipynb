{
 "cells": [
  {
   "cell_type": "code",
   "execution_count": 183,
   "id": "08c69a42-1467-453c-8f52-efc68e97389e",
   "metadata": {},
   "outputs": [],
   "source": [
    "import numpy as np\n",
    "import pandas as pd\n",
    "import matplotlib.pyplot as plt\n",
    "import seaborn as sns\n",
    "\n",
    "case_to_evaluate=\"9_3_2\""
   ]
  },
  {
   "cell_type": "markdown",
   "id": "39c4b46c-fa96-4973-8a91-c12504eab23b",
   "metadata": {},
   "source": [
    "# Load data\n"
   ]
  },
  {
   "cell_type": "code",
   "execution_count": 184,
   "id": "58065c41-94ad-4b1c-9e50-8efd2066dc42",
   "metadata": {},
   "outputs": [],
   "source": [
    "combined_imputed_cells = pd.read_csv(f\"data/{case_to_evaluate}/distance_based/combined_imputed_cells.csv\")\n",
    "combined_replaced_cells = pd.read_csv(f\"data/{case_to_evaluate}/distance_based/combined_replaced_cells.csv\")\n",
    "combined_test_cells = pd.read_csv(f\"data/{case_to_evaluate}/distance_based/combined_test_cells.csv\")"
   ]
  },
  {
   "cell_type": "markdown",
   "id": "a9454029-8741-4869-b35d-6529ab4fcd79",
   "metadata": {},
   "source": [
    "# Examine data\n",
    "\n",
    "## Check replaced data\n",
    "\n",
    "Mean intensities with 0s refer to cells without neighbors"
   ]
  },
  {
   "cell_type": "code",
   "execution_count": 170,
   "id": "f6a98a6f-8ca9-48ed-9606-3e1dd0e2b45a",
   "metadata": {},
   "outputs": [
    {
     "data": {
      "text/html": [
       "<div>\n",
       "<style scoped>\n",
       "    .dataframe tbody tr th:only-of-type {\n",
       "        vertical-align: middle;\n",
       "    }\n",
       "\n",
       "    .dataframe tbody tr th {\n",
       "        vertical-align: top;\n",
       "    }\n",
       "\n",
       "    .dataframe thead th {\n",
       "        text-align: right;\n",
       "    }\n",
       "</style>\n",
       "<table border=\"1\" class=\"dataframe\">\n",
       "  <thead>\n",
       "    <tr style=\"text-align: right;\">\n",
       "      <th></th>\n",
       "      <th>Mean Neighbor Intensity pERK</th>\n",
       "      <th>Mean Neighbor Intensity Rad51</th>\n",
       "      <th>Mean Neighbor Intensity CCND1</th>\n",
       "      <th>Mean Neighbor Intensity Vimentin</th>\n",
       "      <th>Mean Neighbor Intensity aSMA</th>\n",
       "      <th>Mean Neighbor Intensity Ecad</th>\n",
       "      <th>Mean Neighbor Intensity ER</th>\n",
       "      <th>Mean Neighbor Intensity PR</th>\n",
       "      <th>Mean Neighbor Intensity EGFR</th>\n",
       "      <th>Mean Neighbor Intensity pRB</th>\n",
       "      <th>...</th>\n",
       "      <th>Eccentricity</th>\n",
       "      <th>X_centroid</th>\n",
       "      <th>Y_centroid</th>\n",
       "      <th>Phenotype</th>\n",
       "      <th># of Immune Cells</th>\n",
       "      <th># of Neoplastic Epithelial Cells</th>\n",
       "      <th># of Stroma Cells</th>\n",
       "      <th>Cell Neighborhood</th>\n",
       "      <th>Cell Neighborhood Encoded</th>\n",
       "      <th>Radius</th>\n",
       "    </tr>\n",
       "  </thead>\n",
       "  <tbody>\n",
       "    <tr>\n",
       "      <th>0</th>\n",
       "      <td>-1.982650</td>\n",
       "      <td>-2.573164</td>\n",
       "      <td>-2.214435</td>\n",
       "      <td>-0.907921</td>\n",
       "      <td>-1.803212</td>\n",
       "      <td>-1.541311</td>\n",
       "      <td>-2.458003</td>\n",
       "      <td>-1.415121</td>\n",
       "      <td>-1.582431</td>\n",
       "      <td>-1.283895</td>\n",
       "      <td>...</td>\n",
       "      <td>0.263662</td>\n",
       "      <td>5040.107143</td>\n",
       "      <td>380.589286</td>\n",
       "      <td>Stroma (aSMA+)</td>\n",
       "      <td>1</td>\n",
       "      <td>0</td>\n",
       "      <td>0</td>\n",
       "      <td>Immune</td>\n",
       "      <td>1</td>\n",
       "      <td>30</td>\n",
       "    </tr>\n",
       "    <tr>\n",
       "      <th>1</th>\n",
       "      <td>-2.053947</td>\n",
       "      <td>-2.408625</td>\n",
       "      <td>-2.256200</td>\n",
       "      <td>-0.959125</td>\n",
       "      <td>1.026614</td>\n",
       "      <td>-1.297823</td>\n",
       "      <td>-2.112923</td>\n",
       "      <td>-1.012705</td>\n",
       "      <td>-0.904860</td>\n",
       "      <td>-0.819339</td>\n",
       "      <td>...</td>\n",
       "      <td>-0.088532</td>\n",
       "      <td>5039.914286</td>\n",
       "      <td>390.609524</td>\n",
       "      <td>Immune</td>\n",
       "      <td>0</td>\n",
       "      <td>0</td>\n",
       "      <td>1</td>\n",
       "      <td>Stroma (aSMA+)</td>\n",
       "      <td>4</td>\n",
       "      <td>30</td>\n",
       "    </tr>\n",
       "    <tr>\n",
       "      <th>2</th>\n",
       "      <td>0.000000</td>\n",
       "      <td>0.000000</td>\n",
       "      <td>0.000000</td>\n",
       "      <td>0.000000</td>\n",
       "      <td>0.000000</td>\n",
       "      <td>0.000000</td>\n",
       "      <td>0.000000</td>\n",
       "      <td>0.000000</td>\n",
       "      <td>0.000000</td>\n",
       "      <td>0.000000</td>\n",
       "      <td>...</td>\n",
       "      <td>NaN</td>\n",
       "      <td>9388.723301</td>\n",
       "      <td>1230.747573</td>\n",
       "      <td>Basal</td>\n",
       "      <td>0</td>\n",
       "      <td>0</td>\n",
       "      <td>0</td>\n",
       "      <td>Unknown</td>\n",
       "      <td>5</td>\n",
       "      <td>30</td>\n",
       "    </tr>\n",
       "    <tr>\n",
       "      <th>3</th>\n",
       "      <td>0.000000</td>\n",
       "      <td>0.000000</td>\n",
       "      <td>0.000000</td>\n",
       "      <td>0.000000</td>\n",
       "      <td>0.000000</td>\n",
       "      <td>0.000000</td>\n",
       "      <td>0.000000</td>\n",
       "      <td>0.000000</td>\n",
       "      <td>0.000000</td>\n",
       "      <td>0.000000</td>\n",
       "      <td>...</td>\n",
       "      <td>-0.826378</td>\n",
       "      <td>4977.342105</td>\n",
       "      <td>1463.052632</td>\n",
       "      <td>Immune</td>\n",
       "      <td>0</td>\n",
       "      <td>0</td>\n",
       "      <td>0</td>\n",
       "      <td>Unknown</td>\n",
       "      <td>5</td>\n",
       "      <td>30</td>\n",
       "    </tr>\n",
       "    <tr>\n",
       "      <th>4</th>\n",
       "      <td>0.000000</td>\n",
       "      <td>0.000000</td>\n",
       "      <td>0.000000</td>\n",
       "      <td>0.000000</td>\n",
       "      <td>0.000000</td>\n",
       "      <td>0.000000</td>\n",
       "      <td>0.000000</td>\n",
       "      <td>0.000000</td>\n",
       "      <td>0.000000</td>\n",
       "      <td>0.000000</td>\n",
       "      <td>...</td>\n",
       "      <td>0.058586</td>\n",
       "      <td>3591.947368</td>\n",
       "      <td>1820.506579</td>\n",
       "      <td>Immune</td>\n",
       "      <td>0</td>\n",
       "      <td>0</td>\n",
       "      <td>0</td>\n",
       "      <td>Unknown</td>\n",
       "      <td>5</td>\n",
       "      <td>30</td>\n",
       "    </tr>\n",
       "  </tbody>\n",
       "</table>\n",
       "<p>5 rows × 55 columns</p>\n",
       "</div>"
      ],
      "text/plain": [
       "   Mean Neighbor Intensity pERK  Mean Neighbor Intensity Rad51  \\\n",
       "0                     -1.982650                      -2.573164   \n",
       "1                     -2.053947                      -2.408625   \n",
       "2                      0.000000                       0.000000   \n",
       "3                      0.000000                       0.000000   \n",
       "4                      0.000000                       0.000000   \n",
       "\n",
       "   Mean Neighbor Intensity CCND1  Mean Neighbor Intensity Vimentin  \\\n",
       "0                      -2.214435                         -0.907921   \n",
       "1                      -2.256200                         -0.959125   \n",
       "2                       0.000000                          0.000000   \n",
       "3                       0.000000                          0.000000   \n",
       "4                       0.000000                          0.000000   \n",
       "\n",
       "   Mean Neighbor Intensity aSMA  Mean Neighbor Intensity Ecad  \\\n",
       "0                     -1.803212                     -1.541311   \n",
       "1                      1.026614                     -1.297823   \n",
       "2                      0.000000                      0.000000   \n",
       "3                      0.000000                      0.000000   \n",
       "4                      0.000000                      0.000000   \n",
       "\n",
       "   Mean Neighbor Intensity ER  Mean Neighbor Intensity PR  \\\n",
       "0                   -2.458003                   -1.415121   \n",
       "1                   -2.112923                   -1.012705   \n",
       "2                    0.000000                    0.000000   \n",
       "3                    0.000000                    0.000000   \n",
       "4                    0.000000                    0.000000   \n",
       "\n",
       "   Mean Neighbor Intensity EGFR  Mean Neighbor Intensity pRB  ...  \\\n",
       "0                     -1.582431                    -1.283895  ...   \n",
       "1                     -0.904860                    -0.819339  ...   \n",
       "2                      0.000000                     0.000000  ...   \n",
       "3                      0.000000                     0.000000  ...   \n",
       "4                      0.000000                     0.000000  ...   \n",
       "\n",
       "   Eccentricity   X_centroid   Y_centroid       Phenotype  # of Immune Cells  \\\n",
       "0      0.263662  5040.107143   380.589286  Stroma (aSMA+)                  1   \n",
       "1     -0.088532  5039.914286   390.609524          Immune                  0   \n",
       "2           NaN  9388.723301  1230.747573           Basal                  0   \n",
       "3     -0.826378  4977.342105  1463.052632          Immune                  0   \n",
       "4      0.058586  3591.947368  1820.506579          Immune                  0   \n",
       "\n",
       "   # of Neoplastic Epithelial Cells  # of Stroma Cells  Cell Neighborhood  \\\n",
       "0                                 0                  0             Immune   \n",
       "1                                 0                  1     Stroma (aSMA+)   \n",
       "2                                 0                  0            Unknown   \n",
       "3                                 0                  0            Unknown   \n",
       "4                                 0                  0            Unknown   \n",
       "\n",
       "   Cell Neighborhood Encoded  Radius  \n",
       "0                          1      30  \n",
       "1                          4      30  \n",
       "2                          5      30  \n",
       "3                          5      30  \n",
       "4                          5      30  \n",
       "\n",
       "[5 rows x 55 columns]"
      ]
     },
     "execution_count": 170,
     "metadata": {},
     "output_type": "execute_result"
    }
   ],
   "source": [
    "combined_replaced_cells.head()"
   ]
  },
  {
   "cell_type": "code",
   "execution_count": 171,
   "id": "ec8e8727-99f1-481e-bb63-49172dfaf1a2",
   "metadata": {},
   "outputs": [
    {
     "data": {
      "text/plain": [
       "5      3134\n",
       "6      3056\n",
       "7      2977\n",
       "4      2801\n",
       "8      2708\n",
       "       ... \n",
       "171       3\n",
       "181       3\n",
       "184       3\n",
       "186       2\n",
       "187       1\n",
       "Name: # of Neighbors, Length: 188, dtype: int64"
      ]
     },
     "execution_count": 171,
     "metadata": {},
     "output_type": "execute_result"
    }
   ],
   "source": [
    "combined_replaced_cells[\"# of Neighbors\"] = combined_replaced_cells[\"# of Immune Cells\"] + combined_replaced_cells[\"# of Neoplastic Epithelial Cells\"] + combined_replaced_cells[\"# of Stroma Cells\"]\n",
    "combined_replaced_cells[\"# of Neighbors\"].value_counts()"
   ]
  },
  {
   "cell_type": "code",
   "execution_count": 172,
   "id": "ed07016c-5e78-427d-8383-625effa8e40d",
   "metadata": {},
   "outputs": [
    {
     "data": {
      "image/png": "[encoded data removed]",
      "text/plain": [
       "<Figure size 2160x504 with 1 Axes>"
      ]
     },
     "metadata": {
      "needs_background": "light"
     },
     "output_type": "display_data"
    }
   ],
   "source": [
    "fig = plt.figure()\n",
    "ax = sns.histplot(data=combined_replaced_cells, x=\"# of Neighbors\", hue=\"Radius\")\n",
    "#plt.xticks(combined_replaced_cells[\"# of Neighbors\"].unique())\n",
    "fig.set_size_inches(30,7)\n",
    "plt.show()"
   ]
  },
  {
   "cell_type": "markdown",
   "id": "183b0284-d05a-4dd2-b192-07217aaa8634",
   "metadata": {},
   "source": [
    "## Count NAs per row\n",
    "\n",
    "20% replaced data should yield a mean of 5 replaced features"
   ]
  },
  {
   "cell_type": "code",
   "execution_count": 173,
   "id": "2e353849-dd97-4097-8e5e-30b6fdd20a75",
   "metadata": {},
   "outputs": [
    {
     "data": {
      "text/plain": [
       "5.0"
      ]
     },
     "execution_count": 173,
     "metadata": {},
     "output_type": "execute_result"
    }
   ],
   "source": [
    "combined_replaced_cells.isna().sum(axis=1).mean()"
   ]
  },
  {
   "cell_type": "markdown",
   "id": "213d64da-406e-4824-bc96-2677cc416d19",
   "metadata": {},
   "source": [
    "## Test Data"
   ]
  },
  {
   "cell_type": "code",
   "execution_count": 174,
   "id": "075b5cd9-81cc-403f-aaed-98dc7a18bf58",
   "metadata": {},
   "outputs": [
    {
     "data": {
      "text/plain": [
       "array([ 30,  50,  75, 100, 125])"
      ]
     },
     "execution_count": 174,
     "metadata": {},
     "output_type": "execute_result"
    }
   ],
   "source": [
    "# Available Distances\n",
    "\n",
    "combined_test_cells[\"Radius\"].unique()"
   ]
  },
  {
   "cell_type": "markdown",
   "id": "5fbffba8-dc95-43e0-b1ac-6abac3c1fdb8",
   "metadata": {},
   "source": [
    "# Index Replacments"
   ]
  },
  {
   "cell_type": "code",
   "execution_count": 175,
   "id": "2e29bdcc-7f19-4ea7-b788-57af6e43ade5",
   "metadata": {},
   "outputs": [
    {
     "name": "stdout",
     "output_type": "stream",
     "text": [
      "                     0             1                2         3         4\n",
      "0                 CK14          CK19             CK17        ER      Ki67\n",
      "1             Vimentin          CK19           Extent     Rad51        PR\n",
      "2                  p21  Eccentricity  MinorAxisLength      HER2      aSMA\n",
      "3                 pERK          Ki67           Extent      aSMA       pRB\n",
      "4                 Ki67        Extent             CK14       p21        ER\n",
      "...                ...           ...              ...       ...       ...\n",
      "19734         Vimentin          CK14             CK19      Area      HER2\n",
      "19735            cPARP          aSMA              p21     Rad51  Solidity\n",
      "19736  MajorAxisLength           CK7             CK14  Solidity     CCND1\n",
      "19737            Rad51           pRB             CK14      EGFR        PR\n",
      "19738         Solidity          Ki67             EGFR      Ecad      pERK\n",
      "\n",
      "[19739 rows x 5 columns]\n"
     ]
    }
   ],
   "source": [
    "index_replacements = pd.read_csv(\"data/distance_based/index_replacements.csv\")\n",
    "print(index_replacements)\n",
    "index_replacements = index_replacements.T.to_dict()"
   ]
  },
  {
   "cell_type": "markdown",
   "id": "f78485a3-3c1a-400a-b68b-1a1bfe9ab90d",
   "metadata": {},
   "source": [
    "# Load imputed features"
   ]
  },
  {
   "cell_type": "code",
   "execution_count": 176,
   "id": "a77df246-79ee-41bf-b61c-c92085bcf4f7",
   "metadata": {},
   "outputs": [
    {
     "data": {
      "text/plain": [
       "['pERK',\n",
       " 'Rad51',\n",
       " 'CCND1',\n",
       " 'Vimentin',\n",
       " 'aSMA',\n",
       " 'Ecad',\n",
       " 'ER',\n",
       " 'PR',\n",
       " 'EGFR',\n",
       " 'pRB',\n",
       " 'CD45',\n",
       " 'Ki67',\n",
       " 'CK19',\n",
       " 'p21',\n",
       " 'CK14',\n",
       " 'AR',\n",
       " 'cPARP',\n",
       " 'CK17',\n",
       " 'CK7',\n",
       " 'HER2',\n",
       " 'Area',\n",
       " 'MajorAxisLength',\n",
       " 'MinorAxisLength',\n",
       " 'Solidity',\n",
       " 'Extent',\n",
       " 'Eccentricity',\n",
       " 'X_centroid',\n",
       " 'Y_centroid']"
      ]
     },
     "execution_count": 176,
     "metadata": {},
     "output_type": "execute_result"
    }
   ],
   "source": [
    "features = pd.read_csv(\"data/distance_based/features_to_impute.csv\")\n",
    "features = features[\"0\"].to_list()\n",
    "features"
   ]
  },
  {
   "cell_type": "markdown",
   "id": "be0c8c6d-3ca4-4370-a649-09952f91304d",
   "metadata": {},
   "source": [
    "# R2 score calculation"
   ]
  },
  {
   "cell_type": "code",
   "execution_count": 177,
   "id": "1730794f-9550-4b96-b942-1abccaf81677",
   "metadata": {},
   "outputs": [],
   "source": [
    "from typing import List, Dict\n",
    "from sklearn.metrics import r2_score\n",
    "\n",
    "def evaluate_performance(features: List, index_replacements: Dict, test_data: pd.DataFrame,\n",
    "                             imputed_data: pd.DataFrame):\n",
    "        \"\"\"\n",
    "        Evaluates the performance per feature\n",
    "        @param features:\n",
    "        @param index_replacements:\n",
    "        @param test_data:\n",
    "        @param imputed_data:\n",
    "        @return: Returns a dataframe with r2 scores for performance evaluation\n",
    "        \"\"\"\n",
    "        score_data: List = []\n",
    "\n",
    "        for feature in features:\n",
    "            if \"X_centroid\" in feature or \"Y_centroid\" in feature or \"Origin\" in feature:\n",
    "                continue\n",
    "\n",
    "            # Store all cell indexes, to be able to select the correct cells later for r2 comparison\n",
    "            cell_indexes_to_compare: list = []\n",
    "            for key, replaced_features in index_replacements.items():\n",
    "                key = int(key)\n",
    "                replaced_features = list(replaced_features.values())\n",
    "                \n",
    "                if feature in replaced_features:\n",
    "                    cell_indexes_to_compare.append(key)\n",
    "           \n",
    "            score = r2_score(test_data[feature].loc[cell_indexes_to_compare],\n",
    "                                  imputed_data[feature].loc[cell_indexes_to_compare])\n",
    "                    \n",
    "            score_data.append({\n",
    "                \"Feature\": feature,\n",
    "                \"Score\": score if score >= 0 else 0\n",
    "            })\n",
    "\n",
    "        return pd.DataFrame().from_records(score_data)"
   ]
  },
  {
   "cell_type": "code",
   "execution_count": 178,
   "id": "f96120e0-572e-4ad1-bd8d-96bb2aab7ac4",
   "metadata": {},
   "outputs": [
    {
     "data": {
      "text/html": [
       "<div>\n",
       "<style scoped>\n",
       "    .dataframe tbody tr th:only-of-type {\n",
       "        vertical-align: middle;\n",
       "    }\n",
       "\n",
       "    .dataframe tbody tr th {\n",
       "        vertical-align: top;\n",
       "    }\n",
       "\n",
       "    .dataframe thead th {\n",
       "        text-align: right;\n",
       "    }\n",
       "</style>\n",
       "<table border=\"1\" class=\"dataframe\">\n",
       "  <thead>\n",
       "    <tr style=\"text-align: right;\">\n",
       "      <th></th>\n",
       "      <th>pERK</th>\n",
       "      <th>Rad51</th>\n",
       "      <th>CCND1</th>\n",
       "      <th>Vimentin</th>\n",
       "      <th>aSMA</th>\n",
       "      <th>Ecad</th>\n",
       "      <th>ER</th>\n",
       "      <th>PR</th>\n",
       "      <th>EGFR</th>\n",
       "      <th>pRB</th>\n",
       "      <th>...</th>\n",
       "      <th>cPARP</th>\n",
       "      <th>CK17</th>\n",
       "      <th>CK7</th>\n",
       "      <th>HER2</th>\n",
       "      <th>Area</th>\n",
       "      <th>MajorAxisLength</th>\n",
       "      <th>MinorAxisLength</th>\n",
       "      <th>Solidity</th>\n",
       "      <th>Extent</th>\n",
       "      <th>Eccentricity</th>\n",
       "    </tr>\n",
       "  </thead>\n",
       "  <tbody>\n",
       "  </tbody>\n",
       "</table>\n",
       "<p>0 rows × 26 columns</p>\n",
       "</div>"
      ],
      "text/plain": [
       "Empty DataFrame\n",
       "Columns: [pERK, Rad51, CCND1, Vimentin, aSMA, Ecad, ER, PR, EGFR, pRB, CD45, Ki67, CK19, p21, CK14, AR, cPARP, CK17, CK7, HER2, Area, MajorAxisLength, MinorAxisLength, Solidity, Extent, Eccentricity]\n",
       "Index: []\n",
       "\n",
       "[0 rows x 26 columns]"
      ]
     },
     "execution_count": 178,
     "metadata": {},
     "output_type": "execute_result"
    }
   ],
   "source": [
    "distance  = 300\n",
    "\n",
    "selected_test_cells = combined_test_cells[combined_test_cells[\"Radius\"] == distance].reset_index(drop=True)\n",
    "selected_imputed_cells = combined_imputed_cells[combined_imputed_cells[\"Radius\"] == distance].reset_index(drop=True)\n",
    "\n",
    "#selected_imputed_cells.filter(regex=(\"Mean *\"))\n",
    "selected_imputed_cells.filter(features)\n",
    "#selected_test_cells.filter(features)\n"
   ]
  },
  {
   "cell_type": "code",
   "execution_count": 182,
   "id": "ffe3f03b-0bdf-4931-aba1-26420b785eb2",
   "metadata": {},
   "outputs": [
    {
     "data": {
      "text/html": [
       "<div>\n",
       "<style scoped>\n",
       "    .dataframe tbody tr th:only-of-type {\n",
       "        vertical-align: middle;\n",
       "    }\n",
       "\n",
       "    .dataframe tbody tr th {\n",
       "        vertical-align: top;\n",
       "    }\n",
       "\n",
       "    .dataframe thead th {\n",
       "        text-align: right;\n",
       "    }\n",
       "</style>\n",
       "<table border=\"1\" class=\"dataframe\">\n",
       "  <thead>\n",
       "    <tr style=\"text-align: right;\">\n",
       "      <th></th>\n",
       "      <th>Feature</th>\n",
       "      <th>Score</th>\n",
       "      <th>Radius</th>\n",
       "    </tr>\n",
       "  </thead>\n",
       "  <tbody>\n",
       "    <tr>\n",
       "      <th>0</th>\n",
       "      <td>pERK</td>\n",
       "      <td>0.296878</td>\n",
       "      <td>30</td>\n",
       "    </tr>\n",
       "    <tr>\n",
       "      <th>1</th>\n",
       "      <td>Rad51</td>\n",
       "      <td>0.196661</td>\n",
       "      <td>30</td>\n",
       "    </tr>\n",
       "    <tr>\n",
       "      <th>2</th>\n",
       "      <td>CCND1</td>\n",
       "      <td>0.341591</td>\n",
       "      <td>30</td>\n",
       "    </tr>\n",
       "    <tr>\n",
       "      <th>3</th>\n",
       "      <td>Vimentin</td>\n",
       "      <td>0.134690</td>\n",
       "      <td>30</td>\n",
       "    </tr>\n",
       "    <tr>\n",
       "      <th>4</th>\n",
       "      <td>aSMA</td>\n",
       "      <td>0.206042</td>\n",
       "      <td>30</td>\n",
       "    </tr>\n",
       "    <tr>\n",
       "      <th>...</th>\n",
       "      <td>...</td>\n",
       "      <td>...</td>\n",
       "      <td>...</td>\n",
       "    </tr>\n",
       "    <tr>\n",
       "      <th>21</th>\n",
       "      <td>MajorAxisLength</td>\n",
       "      <td>0.102092</td>\n",
       "      <td>125</td>\n",
       "    </tr>\n",
       "    <tr>\n",
       "      <th>22</th>\n",
       "      <td>MinorAxisLength</td>\n",
       "      <td>0.163441</td>\n",
       "      <td>125</td>\n",
       "    </tr>\n",
       "    <tr>\n",
       "      <th>23</th>\n",
       "      <td>Solidity</td>\n",
       "      <td>0.000000</td>\n",
       "      <td>125</td>\n",
       "    </tr>\n",
       "    <tr>\n",
       "      <th>24</th>\n",
       "      <td>Extent</td>\n",
       "      <td>0.000000</td>\n",
       "      <td>125</td>\n",
       "    </tr>\n",
       "    <tr>\n",
       "      <th>25</th>\n",
       "      <td>Eccentricity</td>\n",
       "      <td>0.000000</td>\n",
       "      <td>125</td>\n",
       "    </tr>\n",
       "  </tbody>\n",
       "</table>\n",
       "<p>130 rows × 3 columns</p>\n",
       "</div>"
      ],
      "text/plain": [
       "            Feature     Score  Radius\n",
       "0              pERK  0.296878      30\n",
       "1             Rad51  0.196661      30\n",
       "2             CCND1  0.341591      30\n",
       "3          Vimentin  0.134690      30\n",
       "4              aSMA  0.206042      30\n",
       "..              ...       ...     ...\n",
       "21  MajorAxisLength  0.102092     125\n",
       "22  MinorAxisLength  0.163441     125\n",
       "23         Solidity  0.000000     125\n",
       "24           Extent  0.000000     125\n",
       "25     Eccentricity  0.000000     125\n",
       "\n",
       "[130 rows x 3 columns]"
      ]
     },
     "execution_count": 182,
     "metadata": {},
     "output_type": "execute_result"
    }
   ],
   "source": [
    "combined_r2_scores_data = []\n",
    "for radius in combined_test_cells[\"Radius\"].unique():\n",
    "    selected_test_cells = combined_test_cells[combined_test_cells[\"Radius\"] == radius].reset_index(drop=True)\n",
    "    selected_imputed_cells = combined_imputed_cells[combined_imputed_cells[\"Radius\"] == radius].reset_index(drop=True)\n",
    "    \n",
    "    r2_scores = evaluate_performance(features, index_replacements, selected_test_cells, selected_imputed_cells)\n",
    "    r2_scores[\"Radius\"] = radius\n",
    "    combined_r2_scores_data.append(r2_scores)\n",
    "    \n",
    "combined_r2_scores = pd.concat(combined_r2_scores_data)\n",
    "combined_r2_scores.to_csv(\"data/distance_based/combined_r2_scores.csv\", index=False)\n",
    "combined_r2_scores"
   ]
  },
  {
   "cell_type": "code",
   "execution_count": 180,
   "id": "e9cad664-f758-4224-b2d1-ae4825a27d18",
   "metadata": {},
   "outputs": [
    {
     "data": {
      "image/png": "[encoded data removed]",
      "text/plain": [
       "<Figure size 1080x504 with 1 Axes>"
      ]
     },
     "metadata": {
      "needs_background": "light"
     },
     "output_type": "display_data"
    }
   ],
   "source": [
    "fig = plt.figure()\n",
    "sns.barplot(x=\"Feature\", y=\"Score\",hue=\"Radius\", data=combined_r2_scores)\n",
    "for ax in fig.axes:\n",
    "    for tick in ax.get_xticklabels():\n",
    "        tick.set_rotation(45)\n",
    "fig.set_size_inches(15,7)\n",
    "plt.show()"
   ]
  },
  {
   "cell_type": "code",
   "execution_count": null,
   "id": "bb6fbd18-f044-4452-80cb-1c2dfe1a6aeb",
   "metadata": {},
   "outputs": [],
   "source": []
  }
 ],
 "metadata": {
  "kernelspec": {
   "display_name": "Python 3 (ipykernel)",
   "language": "python",
   "name": "python3"
  },
  "language_info": {
   "codemirror_mode": {
    "name": "ipython",
    "version": 3
   },
   "file_extension": ".py",
   "mimetype": "text/x-python",
   "name": "python",
   "nbconvert_exporter": "python",
   "pygments_lexer": "ipython3",
   "version": "3.9.4"
  }
 },
 "nbformat": 4,
 "nbformat_minor": 5
}
